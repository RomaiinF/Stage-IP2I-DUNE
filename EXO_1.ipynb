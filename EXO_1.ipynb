{
 "cells": [
  {
   "cell_type": "markdown",
   "id": "97caed8e-1e4b-43a4-9ec7-0d2605af78ff",
   "metadata": {},
   "source": [
    "# MCMC 1: the Metropolis-Hastings algorithm & the target function\n",
    "\n",
    "In this notebook, we will see how a Markov Chain based on the Metropolis-Hastings algorithm manages to sample a target distribution."
   ]
  },
  {
   "cell_type": "code",
   "execution_count": 1,
   "id": "471e06ed-37a1-40fb-89e3-402b312a0592",
   "metadata": {},
   "outputs": [],
   "source": [
    "### Import necessary python packages\n",
    "\n",
    "# math package\n",
    "import numpy as np\n",
    "import random\n",
    "\n",
    "# plotting packages\n",
    "import matplotlib as mpl\n",
    "from matplotlib import pyplot as plt"
   ]
  },
  {
   "cell_type": "code",
   "execution_count": 2,
   "id": "4a2b0dde-ba54-4d44-b342-34151502da95",
   "metadata": {},
   "outputs": [],
   "source": [
    "### Setup plot options\n",
    "\n",
    "plt.rcParams[\"font.family\"] = \"serif\"\n",
    "plt.rcParams[\"mathtext.fontset\"] = \"dejavuserif\"\n"
   ]
  },
  {
   "cell_type": "markdown",
   "id": "54bbc1da-70ab-4fba-8238-c53527985615",
   "metadata": {},
   "source": [
    "## 1.1 Sampling a 1D normal distribution with MCMC\n",
    "\n",
    "In this section, we will create a Markov Chain to sample a 1-dimensional normal distribution. The objective is to demonstrate that the Markov chain steps follows the target distribution, and to become familiar with the algorithm steps. \n",
    "The following setup is chosen: \n",
    "- Target function $T(x)$: normal function with mean $\\mu_{T} = 0$, standard deviation $\\sigma_{T}=1$\n",
    "- Jump function $J(x)$: Gaussian function with standard deviation $\\sigma_{J}=1$\n",
    "- MCMC algorithm: Metropolis-Hastings"
   ]
  },
  {
   "cell_type": "markdown",
   "id": "c6bce10f-6d29-40ae-bec2-95f501a82807",
   "metadata": {},
   "source": [
    "### 1.1.1 Define the target function"
   ]
  },
  {
   "cell_type": "code",
   "execution_count": 3,
   "id": "19628305-08bb-4ae7-952e-92fc9d8592f0",
   "metadata": {},
   "outputs": [],
   "source": [
    "### Define a normal distribution as the target function\n",
    "\n",
    "def normal(x, mean=0, sigma=1): \n",
    "    fac = 1 / (sigma * np.sqrt(2 * np.pi))\n",
    "    exp = np.exp( (-1/2) * (( (x - mean) / sigma)**2 ) )\n",
    "    return fac * exp"
   ]
  },
  {
   "cell_type": "code",
   "execution_count": 16,
   "id": "9a49b3ed",
   "metadata": {},
   "outputs": [
    {
     "data": {
      "image/png": "[encoded data removed]",
      "text/plain": [
       "<Figure size 600x400 with 1 Axes>"
      ]
     },
     "metadata": {},
     "output_type": "display_data"
    }
   ],
   "source": [
    "### Make a graph of the normal distribution \n",
    "\n",
    "# create a figure \n",
    "fig, ax = plt.subplots(figsize = (6,4))\n",
    "\n",
    "# plot the target function\n",
    "target_x =  np.linspace(-5, 5, 200)\n",
    "target_y = []\n",
    "for x in target_x:\n",
    "    target_y.append(normal(x))\n",
    "ax.plot(target_x, target_y, lw=2, c='blue')\n",
    "\n",
    "# titles and axis\n",
    "#ax.set_title('Target distribution ')\n",
    "ax.set_xlabel(r'$x$')\n",
    "ax.set_ylabel(r'$G(x)$')\n",
    "\n",
    "plt.savefig(\"target distribution.png\") "
   ]
  },
  {
   "cell_type": "markdown",
   "id": "ee7997dc",
   "metadata": {},
   "source": [
    "### 1.1.2 Define the jump function"
   ]
  },
  {
   "cell_type": "code",
   "execution_count": 5,
   "id": "13b89e64-c879-4483-a030-419ae9f3b49b",
   "metadata": {},
   "outputs": [],
   "source": [
    "### Define a Gaussian jump function J(x,y) \n",
    "\n",
    "jump_std = 1\n",
    "\n",
    "def jump(x, y): \n",
    "    j = np.exp( (-1/2) * (((x-y) / jump_std )**2) )\n",
    "    return j"
   ]
  },
  {
   "cell_type": "markdown",
   "id": "10c5e035-af39-4913-9152-ddb2515e9db3",
   "metadata": {},
   "source": [
    "### 1.1.3 Initialise the Markov Chain by computing the first step\n",
    "The first step is always accepted. "
   ]
  },
  {
   "cell_type": "code",
   "execution_count": 6,
   "id": "2ba65bb1-fff8-4735-ac7e-65d64145964b",
   "metadata": {},
   "outputs": [],
   "source": [
    "### Create array to store step and target function evaluation values\n",
    "#0 ligne steps\n",
    "#1 ligne données\n",
    "donnees = np.array([])\n",
    "steps = np.array([])"
   ]
  },
  {
   "cell_type": "code",
   "execution_count": 7,
   "id": "710503d0-be79-4e90-afa2-a363941f8346",
   "metadata": {},
   "outputs": [],
   "source": [
    "### Chose initial first value in [-1, 1] and compute the value of T(x)\n",
    "i = 1\n",
    "\n",
    "x = random.uniform(-1,1)\n",
    "\n",
    "donnees = np.append(donnees,x)\n",
    "steps = np.append(steps,i)"
   ]
  },
  {
   "cell_type": "markdown",
   "id": "9df7b963-1ef7-4d5e-b769-337f2a6b0c31",
   "metadata": {},
   "source": [
    "### 1.1.4 Generate a 2nd step and apply Metropolis-Hastings algorithm\n"
   ]
  },
  {
   "cell_type": "code",
   "execution_count": 8,
   "id": "cca9d996-5da9-48e5-afd6-05674d395ac1",
   "metadata": {},
   "outputs": [
    {
     "ename": "NameError",
     "evalue": "name 'x1' is not defined",
     "output_type": "error",
     "traceback": [
      "\u001b[0;31m---------------------------------------------------------------------------\u001b[0m",
      "\u001b[0;31mNameError\u001b[0m                                 Traceback (most recent call last)",
      "Cell \u001b[0;32mIn[8], line 5\u001b[0m\n\u001b[1;32m      2\u001b[0m i \u001b[38;5;241m=\u001b[39m i \u001b[38;5;241m+\u001b[39m \u001b[38;5;241m1\u001b[39m\n\u001b[1;32m      4\u001b[0m x_plus_un \u001b[38;5;241m=\u001b[39m random\u001b[38;5;241m.\u001b[39muniform(\u001b[38;5;241m-\u001b[39m\u001b[38;5;241m1\u001b[39m,\u001b[38;5;241m1\u001b[39m)\n\u001b[0;32m----> 5\u001b[0m jump(x1 \u001b[38;5;241m+\u001b[39m \u001b[38;5;241m1\u001b[39m, x1)\n\u001b[1;32m      7\u001b[0m steps \u001b[38;5;241m=\u001b[39m np\u001b[38;5;241m.\u001b[39mappend(steps,i)\n",
      "\u001b[0;31mNameError\u001b[0m: name 'x1' is not defined"
     ]
    }
   ],
   "source": [
    "### Propose a new value with the jump function \n",
    "i = i + 1\n",
    "\n",
    "x_plus_un = random.uniform(-1,1)\n",
    "jump(x1 + 1, x1)\n",
    "\n",
    "steps = np.append(steps,i)"
   ]
  },
  {
   "cell_type": "code",
   "execution_count": 9,
   "id": "810a5327-d54c-473b-b355-965f365009fa",
   "metadata": {},
   "outputs": [
    {
     "ename": "NameError",
     "evalue": "name 'x_plus_1' is not defined",
     "output_type": "error",
     "traceback": [
      "\u001b[0;31m---------------------------------------------------------------------------\u001b[0m",
      "\u001b[0;31mNameError\u001b[0m                                 Traceback (most recent call last)",
      "Cell \u001b[0;32mIn[9], line 3\u001b[0m\n\u001b[1;32m      1\u001b[0m \u001b[38;5;66;03m### Compute the Metropolis-Hastings ratio and apply the acceptance function\u001b[39;00m\n\u001b[0;32m----> 3\u001b[0m r \u001b[38;5;241m=\u001b[39m (normal(x_plus_1,\u001b[38;5;241m0\u001b[39m,\u001b[38;5;241m1\u001b[39m)\u001b[38;5;241m*\u001b[39mjump(x,x_plus_1)) \u001b[38;5;241m/\u001b[39m (normal(x,\u001b[38;5;241m0\u001b[39m,\u001b[38;5;241m1\u001b[39m)\u001b[38;5;241m*\u001b[39mjump(x_plus_1,x))\n\u001b[1;32m      4\u001b[0m \u001b[38;5;28mprint\u001b[39m(\u001b[38;5;124m\"\u001b[39m\u001b[38;5;124mr =\u001b[39m\u001b[38;5;124m\"\u001b[39m,r)\n\u001b[1;32m      6\u001b[0m \u001b[38;5;28;01mif\u001b[39;00m r \u001b[38;5;241m<\u001b[39m \u001b[38;5;241m1\u001b[39m :\n",
      "\u001b[0;31mNameError\u001b[0m: name 'x_plus_1' is not defined"
     ]
    }
   ],
   "source": [
    "### Compute the Metropolis-Hastings ratio and apply the acceptance function\n",
    "\n",
    "r = (normal(x_plus_1,0,1)*jump(x,x_plus_1)) / (normal(x,0,1)*jump(x_plus_1,x))\n",
    "print(\"r =\",r)\n",
    "\n",
    "if r < 1 :\n",
    "    u = random.uniform(0,1)\n",
    "    print(\"u = \",u)\n",
    "    if r< u :\n",
    "        x_plus_un = x\n",
    "\n",
    "donnees = np.append(donnees,x_plus_un)\n",
    "print(\"x = \",x)\n",
    "print(\"x+1 =\", x_plus_un)\n"
   ]
  },
  {
   "cell_type": "markdown",
   "id": "cf11ab83",
   "metadata": {},
   "source": [
    "### 1.1.5 Iterate the process to compute 100'000 steps\n",
    "\n",
    "Apply the process of steps 1 and 2 in a for loop to generate 100'000 steps"
   ]
  },
  {
   "cell_type": "code",
   "execution_count": 10,
   "id": "adec5d74-dc1c-4f60-910e-b1c7ff82a4c8",
   "metadata": {},
   "outputs": [],
   "source": [
    "# Définition de la Gaussienne\n",
    "def normal(x, mean=0, sigma=1): \n",
    "    fac = 1 / (sigma * np.sqrt(2 * np.pi))\n",
    "    exp = np.exp((-1/2) * (((x - mean) / sigma)**2))\n",
    "    return fac * exp\n",
    "\n",
    "# Valeur du pas ?\n",
    "jump_std = 1\n",
    "\n",
    "# Fonction Jump(x_i+1/x_i)\n",
    "def jump(x, y): \n",
    "    j = np.exp((-1/2) * (((x - y) / float(jump_std))**2))\n",
    "    return j\n",
    "\n",
    "def newjump(x):\n",
    "    return np.random.normal(loc = x, scale = jump_std)\n",
    "\n",
    "# Fonction A(x_i+1 / x_i)\n",
    "def A(x_plus_un, x):\n",
    "    # Calcul de r\n",
    "    r = ((normal(x_plus_un, 0, 1) * jump(x, x_plus_un))) / float(((normal(x, 0, 1) * jump(x_plus_un, x))))\n",
    "    if r >= 1:\n",
    "        # r est plus grand que 1 : on accepte et on return x_i+1\n",
    "        return x_plus_un\n",
    "    else:\n",
    "        # on prend un nombre aléatoire en 0 et 1\n",
    "        u = random.uniform(0, 1)\n",
    "        if r < u:\n",
    "            # r est plus petit que u : on refuse et on return une deuxième fois la valeur de x_i\n",
    "            return x\n",
    "        else:\n",
    "            # r est plus grand que u : on accepte et on return x_i+1\n",
    "            return x_plus_un\n",
    "\n",
    "# Algorithme de Metropolis Hastings\n",
    "def metropolis_hastings(donnees, steps, i):\n",
    "    #On prend un nombre aléatoire entre -4 et 4 \n",
    "    x = random.uniform(-4, 4)\n",
    "    #x = 10\n",
    "    for j in range(i):\n",
    "        if j == 0:                                       # Quand j = 0 on accepte forcément\n",
    "            donnees = np.append(donnees, x)\n",
    "            steps = np.append(steps, 0)\n",
    "        else:\n",
    "            x_plus_un = np.random.normal(loc=donnees[-1], scale=jump_std)      # On tire un autre nombre aléatoire x_i+1\n",
    "            temp = A(x_plus_un, x)                       # On atribue la valeur retournée par la fonction A\n",
    "            donnees = np.append(donnees, temp)           # On append la valeur de x_i ou x_i+1 suivant la fonction A\n",
    "            steps = np.append(steps, j)\n",
    "            x = temp                                     # x_i devient soit x_i soit x_i+1\n",
    "    return steps, donnees\n",
    "\n",
    "# Nombre de steps\n",
    "i = 100000\n",
    "\n",
    "# Initialisation des arrays\n",
    "donnees = np.array([])\n",
    "steps = np.array([])\n",
    "\n",
    "# Éxécution de l'algorithme \n",
    "steps, donnees = metropolis_hastings(donnees, steps, i)"
   ]
  },
  {
   "cell_type": "code",
   "execution_count": 13,
   "id": "282d19d1",
   "metadata": {
    "scrolled": true
   },
   "outputs": [
    {
     "data": {
      "image/png": "[encoded data removed]",
      "text/plain": [
       "<Figure size 600x400 with 1 Axes>"
      ]
     },
     "metadata": {},
     "output_type": "display_data"
    }
   ],
   "source": [
    "### Plot the MCMC steps in a histogram and compare with the target function\n",
    "\n",
    "# W sert à définir la taille des bins\n",
    "w = 0.05\n",
    "#plt.hist(donnees, bins=np.arange(min(donnees), max(donnees) + w, w), density=True, alpha = 0.6, color='red')\n",
    "fig, ax = plt.subplots(figsize = (6,4))\n",
    "\n",
    "plt.hist(donnees, bins= 50, density=True, alpha = 0.6, color='red')\n",
    "\n",
    "# Plot normal distribution\n",
    "target_x = np.linspace(-4, 4, 400)\n",
    "target_y = normal(target_x)\n",
    "plt.plot(target_x, target_y, lw=2, c='blue')\n",
    "\n",
    "# Titres des axes\n",
    "#plt.title('Metropolis-Hastings Sampling vs. Normal Distribution')\n",
    "plt.xlabel('x')\n",
    "plt.ylabel('G(x)')\n",
    "\n",
    "plt.legend(['Normal Distribution', 'Samples'])\n",
    "\n",
    "plt.savefig(\"Échantillonnage.png\") \n",
    "\n",
    "plt.show()\n",
    "\n"
   ]
  },
  {
   "cell_type": "code",
   "execution_count": null,
   "id": "4602dab8",
   "metadata": {},
   "outputs": [],
   "source": [
    "### Extract the MCMC distribution mean and variance and compare with the target function\n",
    "\n",
    "print(\"Moyenne par MH : \", np.mean(donnees))\n",
    "print(\"Variance par MH : \", np.var(donnees))\n"
   ]
  },
  {
   "cell_type": "markdown",
   "id": "53cbf3d2",
   "metadata": {},
   "source": [
    "### 1.1.6 A bit more tests\n",
    "\n",
    "- What happens if the first step is $x=10$ ? \n",
    "- What happens if you step the jump function variance to 0.0001 ? To 100 ?"
   ]
  },
  {
   "cell_type": "markdown",
   "id": "f1bfe40f-b772-41de-82ff-85d56ba895b8",
   "metadata": {},
   "source": [
    "Si $x_i = 10$, cela ne change rien, la gaussienne sera quand même approximée par l'algorithme de Métropolis-Hastings.\n",
    "Quand jump_std = 0.0001, on se retrouve avec une courbe quasi plate car l'échantillon est confiné dans une trop petite plage de valeur. C'est pas faux, mais il faut plus de steps pour voir la gaussienne finale. Une chaine de Markov converge toujours, mais il faut parfois du temps.\n",
    "\n",
    "\n"
   ]
  }
 ],
 "metadata": {
  "kernelspec": {
   "display_name": "Python 3 (ipykernel)",
   "language": "python",
   "name": "python3"
  },
  "language_info": {
   "codemirror_mode": {
    "name": "ipython",
    "version": 3
   },
   "file_extension": ".py",
   "mimetype": "text/x-python",
   "name": "python",
   "nbconvert_exporter": "python",
   "pygments_lexer": "ipython3",
   "version": "3.11.7"
  }
 },
 "nbformat": 4,
 "nbformat_minor": 5
}
